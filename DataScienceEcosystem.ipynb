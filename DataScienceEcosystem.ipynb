{
 "cells": [
  {
   "cell_type": "markdown",
   "id": "674cada1",
   "metadata": {},
   "source": [
    "# Data Science Tools and Ecosystem"
   ]
  },
  {
   "cell_type": "markdown",
   "id": "cd63a620",
   "metadata": {},
   "source": [
    "In this notebook, Data Science Tools and Ecosystem are summarized."
   ]
  },
  {
   "cell_type": "markdown",
   "id": "83a3a703",
   "metadata": {},
   "source": [
    "**Objectives:**\n",
    "- languages\n",
    "- libraries\n",
    "- data science tools\n",
    "- arithmetic expressions\n",
    "- converter\n"
   ]
  },
  {
   "cell_type": "markdown",
   "id": "31548e4e",
   "metadata": {},
   "source": [
    "Some of the popular languages that Data Scientists use are:"
   ]
  },
  {
   "cell_type": "code",
   "execution_count": null,
   "id": "bbf9d5d0",
   "metadata": {},
   "outputs": [],
   "source": [
    "1. Python\n",
    "2. R\n",
    "3. C#"
   ]
  },
  {
   "cell_type": "code",
   "execution_count": null,
   "id": "34157b63",
   "metadata": {},
   "outputs": [],
   "source": [
    "Some of the commonly used libraries used by Data Scientists include:"
   ]
  },
  {
   "cell_type": "code",
   "execution_count": null,
   "id": "56ea0cad",
   "metadata": {},
   "outputs": [],
   "source": [
    "1. pandas\n",
    "2. matplotlib\n",
    "3. scikit-learn"
   ]
  },
  {
   "cell_type": "markdown",
   "id": "bb37705d",
   "metadata": {},
   "source": [
    "| Data Science Tools |\n",
    "------------------------\n",
    "| RStudio | \n",
    "JupyterNotebook | \n",
    "| Jupiter lab |\n",
    "---------"
   ]
  },
  {
   "cell_type": "markdown",
   "id": "91ff9c81",
   "metadata": {},
   "source": [
    "### Below are a few examples of evaluating arithmetic expressions in Python"
   ]
  },
  {
   "cell_type": "code",
   "execution_count": 4,
   "id": "23fbb66d",
   "metadata": {},
   "outputs": [
    {
     "data": {
      "text/plain": [
       "17"
      ]
     },
     "execution_count": 4,
     "metadata": {},
     "output_type": "execute_result"
    }
   ],
   "source": [
    "(3*4)+5\n",
    "#This a simple arithmetic expression to mutiply then add integers"
   ]
  },
  {
   "cell_type": "code",
   "execution_count": 12,
   "id": "c3f604c5",
   "metadata": {},
   "outputs": [
    {
     "name": "stdout",
     "output_type": "stream",
     "text": [
      "200\n"
     ]
    },
    {
     "data": {
      "text/plain": [
       "3.3333333333333335"
      ]
     },
     "execution_count": 12,
     "metadata": {},
     "output_type": "execute_result"
    }
   ],
   "source": [
    "minutes = input()\n",
    "minutes = int(minutes)\n",
    "def convert(minutes):\n",
    "    hour=minutes/60\n",
    "    return hour\n",
    "\n",
    "convert(minutes)"
   ]
  },
  {
   "cell_type": "markdown",
   "id": "20a083a3",
   "metadata": {},
   "source": [
    "## Karolina Kołodziej\n",
    "author"
   ]
  },
  {
   "cell_type": "code",
   "execution_count": null,
   "id": "782137b6",
   "metadata": {},
   "outputs": [],
   "source": []
  }
 ],
 "metadata": {
  "kernelspec": {
   "display_name": "Python 3 (ipykernel)",
   "language": "python",
   "name": "python3"
  },
  "language_info": {
   "codemirror_mode": {
    "name": "ipython",
    "version": 3
   },
   "file_extension": ".py",
   "mimetype": "text/x-python",
   "name": "python",
   "nbconvert_exporter": "python",
   "pygments_lexer": "ipython3",
   "version": "3.9.18"
  }
 },
 "nbformat": 4,
 "nbformat_minor": 5
}
